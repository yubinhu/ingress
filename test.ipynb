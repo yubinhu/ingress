{
 "cells": [
  {
   "cell_type": "code",
   "execution_count": 1,
   "metadata": {},
   "outputs": [
    {
     "name": "stdout",
     "output_type": "stream",
     "text": [
      "Processed 9605 chunks.\n",
      "Chunk(id=0_0, doc_id=0, text=The Barcelona manage..., embedding=[])\n",
      "Document(id=0, dataset=football, title=Exclusive: Former Ch..., text=The Barcelona manage...)\n"
     ]
    }
   ],
   "source": [
    "from my_package.load import FootballNewsLoader, FinancialNewsLoader\n",
    "from my_package.document_chunker import DocumentChunker\n",
    "from my_package.embed import Embedder\n",
    "\n",
    "# Step 1: Load data\n",
    "loader = FootballNewsLoader(file_path='data/football/allfootball.csv')\n",
    "documents = loader.load()\n",
    "\n",
    "# Step 2: Chunk documents\n",
    "chunker = DocumentChunker()\n",
    "all_chunks = []\n",
    "for document in documents:\n",
    "    chunks = chunker.chunk(document)\n",
    "    all_chunks.extend(chunks)\n",
    "\n",
    "# Step 3: Embed chunks\n",
    "embedder = Embedder()\n",
    "embedded_chunks = embedder.embed(all_chunks)\n",
    "\n",
    "# Further processing or saving embedded_chunks\n",
    "print(f\"Processed {len(embedded_chunks)} chunks.\")\n",
    "print(all_chunks[0])\n",
    "print(documents[0])"
   ]
  },
  {
   "cell_type": "markdown",
   "metadata": {},
   "source": [
    "### Todos\n",
    "\n",
    "[P1]\n",
    "- [ ] Process all files in football folder\n",
    "\n",
    "- [x] Implement the financial dataset loader\n",
    "\n",
    "- [ ] Add a real embedder\n",
    "\n",
    "\n",
    "[P2] \n",
    "- [ ] Data cleaning\n",
    "\n",
    "- [ ] Improve chuncker"
   ]
  },
  {
   "cell_type": "code",
   "execution_count": 3,
   "metadata": {},
   "outputs": [
    {
     "name": "stdout",
     "output_type": "stream",
     "text": [
      "Processed 4056966 chunks.\n",
      "Chunk(id=4e41266ca1707a052245161948413f057982c0b2_0, doc_id=4e41266ca1707a052245161948413f057982c0b2, text=March 27(Reuters) - ..., embedding=[])\n",
      "Document(id=4e41266ca1707a052245161948413f057982c0b2, dataset=financial, title=BRIEF-AU Optronics t..., text=March 27(Reuters) - ...)\n"
     ]
    }
   ],
   "source": [
    "# Step 1: Load data\n",
    "loader = FinancialNewsLoader(directory_path='data/financial')\n",
    "documents = loader.load()\n",
    "\n",
    "# Step 2: Chunk documents\n",
    "chunker = DocumentChunker()\n",
    "all_chunks = []\n",
    "for document in documents:\n",
    "    chunks = chunker.chunk(document)\n",
    "    all_chunks.extend(chunks)\n",
    "\n",
    "# Step 3: Embed chunks\n",
    "embedder = Embedder()\n",
    "embedded_chunks = embedder.embed(all_chunks)\n",
    "\n",
    "# Further processing or saving embedded_chunks\n",
    "print(f\"Processed {len(embedded_chunks)} chunks.\")\n",
    "print(all_chunks[0])\n",
    "print(documents[0])"
   ]
  },
  {
   "cell_type": "code",
   "execution_count": null,
   "metadata": {},
   "outputs": [],
   "source": []
  }
 ],
 "metadata": {
  "kernelspec": {
   "display_name": "venv",
   "language": "python",
   "name": "python3"
  },
  "language_info": {
   "codemirror_mode": {
    "name": "ipython",
    "version": 3
   },
   "file_extension": ".py",
   "mimetype": "text/x-python",
   "name": "python",
   "nbconvert_exporter": "python",
   "pygments_lexer": "ipython3",
   "version": "3.11.7"
  }
 },
 "nbformat": 4,
 "nbformat_minor": 2
}
